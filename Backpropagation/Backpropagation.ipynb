{
  "nbformat": 4,
  "nbformat_minor": 0,
  "metadata": {
    "colab": {
      "provenance": [],
      "collapsed_sections": [],
      "toc_visible": true
    },
    "kernelspec": {
      "display_name": "Python 3",
      "language": "python",
      "name": "python3"
    },
    "language_info": {
      "codemirror_mode": {
        "name": "ipython",
        "version": 3
      },
      "file_extension": ".py",
      "mimetype": "text/x-python",
      "name": "python",
      "nbconvert_exporter": "python",
      "pygments_lexer": "ipython3",
      "version": "3.6.9"
    }
  },
  "cells": [
    {
      "cell_type": "markdown",
      "metadata": {
        "id": "DVL7_bgmIAPR"
      },
      "source": [
        "# Backpropagation Project\n",
        "\n",
        "\n",
        "\n"
      ]
    },
    {
      "cell_type": "code",
      "metadata": {
        "id": "6ZbYjZZZ_yLV"
      },
      "source": [
        "from sklearn.base import BaseEstimator, ClassifierMixin\n",
        "from sklearn.neural_network import MLPClassifier as BackProp\n",
        "import numpy as np\n",
        "import matplotlib.pyplot as plt\n",
        "from scipy.io import arff\n",
        "from scipy.stats import bernoulli\n",
        "import copy"
      ],
      "execution_count": null,
      "outputs": []
    },
    {
      "cell_type": "code",
      "metadata": {
        "id": "I9E4w_0aCIih"
      },
      "source": [
        "sigmoid = lambda x: 1/(1 + np.exp(-x))\n",
        "f = lambda a: a * (1-a)"
      ],
      "execution_count": null,
      "outputs": []
    },
    {
      "cell_type": "code",
      "metadata": {
        "id": "58m9Ce_IMK2J"
      },
      "source": [
        "class MLPClassifier(BaseEstimator,ClassifierMixin):\n",
        "\n",
        "    def __init__(self,lr=.1, momentum=0, shuffle=True,hidden_layer_widths=None, validation=False):\n",
        "        \"\"\" Initializes class with chosen hyperparameters.\n",
        "\n",
        "        Args:\n",
        "            lr (float): A learning rate / step size.\n",
        "            shuffle(boolean): Whether to shuffle the training data each epoch. DO NOT SHUFFLE for evaluation / debug datasets.\n",
        "            momentum(float): The momentum coefficent\n",
        "            validation(float): The decimal percentage of validation split. \n",
        "        Optional Args (Args we think will make your life easier):\n",
        "            hidden_layer_widths (list(int)): A list of integers which defines the width of each hidden layer if hidden layer is none do twice as many hidden nodes as input nodes.\n",
        "        Example:\n",
        "            mlp = MLPClassifier(lr=.2,momentum=.5,shuffle=False,hidden_layer_widths = [3,3]),  <--- this will create a model with two hidden layers, both 3 nodes wide\n",
        "        \"\"\"\n",
        "        self.hidden_layer_widths = hidden_layer_widths\n",
        "        self.lr = lr\n",
        "        self.momentum = momentum\n",
        "        self.shuffle = shuffle\n",
        "        self.validation = validation\n",
        "\n",
        "\n",
        "    def fit(self, X, y, deterministic, X_val=None, y_val=None, mse = False, score = False, act_coeff = .85):\n",
        "        \"\"\" Fits the data; runs the algorithm and adjusts the weights to find a good solution\n",
        "\n",
        "        Args:\n",
        "            X (array-like): A 2D numpy array with the training data, excluding targets\n",
        "            y (array-like): A 2D numpy array with the training targets\n",
        "        Optional Args (Args we think will make your life easier):\n",
        "            initial_weights (array-like): allows the user to provide initial weights\n",
        "        Returns:\n",
        "            self: Allows this to be chained, e.g. model.fit(X,y).predict(X_test)\n",
        "\n",
        "        \"\"\"\n",
        "        self.X = X\n",
        "        self.y = y\n",
        "\n",
        "        input_dim = len(X[0])           # gets the number of nodes in the input layer\n",
        "        output_dim = len(np.unique(y))  # gets the number of unique classes\n",
        "        if mse:\n",
        "          mse_val = []\n",
        "          mse_train = []\n",
        "        \n",
        "        if score:\n",
        "          s_val = []\n",
        "          s_train = []\n",
        "\n",
        "        # One-hot encoding\n",
        "        self.classes = np.unique(y)\n",
        "        \n",
        "        self.class_index = {}\n",
        "        for i, val in enumerate(self.classes):\n",
        "          self.class_index[val] = i\n",
        "        \n",
        "        y = np.array([self.class_index[y[i]] for i in range(len(y))])\n",
        "        if y_val is not None:\n",
        "          y_val = np.array([self.class_index[y_val[i]] for i in range(len(y_val))])\n",
        "\n",
        "        if self.hidden_layer_widths == None:              # if none set to double input \n",
        "          dims = [input_dim,  2 * input_dim, output_dim]  # keeps track of dimensions of each layer\n",
        "        \n",
        "        else:\n",
        "          dims = [input_dim]                    # keeps track of dimensions of each layer\n",
        "          for h in self.hidden_layer_widths:\n",
        "            dims.append(h)\n",
        "          dims.append(output_dim)\n",
        "        \n",
        "        self.num_layers = len(dims)     # number of layers\n",
        "        weights = []                    # weights\n",
        "        prev_wc = []                    # keeps track of change of weights for momentum\n",
        "\n",
        "        for i in range(self.num_layers - 1):\n",
        "          w = np.zeros((dims[i+1], dims[i]+1))  # adding dimensions for each layer, +1 is for bias\n",
        "          weights.append(w)\n",
        "          prev_wc.append(np.copy(w))\n",
        "\n",
        "        X = np.column_stack((X, np.ones(len(X))))   # updating X to have a column of all ones for bias\n",
        "\n",
        "      \n",
        "        num_epochs = 0\n",
        "        val_acc = 0\n",
        "        while num_epochs < deterministic: \n",
        "          total_change = 0  # keeps track of total change in weights\n",
        "          num_epochs += 1\n",
        "          if self.shuffle:\n",
        "            X, y = self._shuffle_data(X, y)\n",
        "\n",
        "          for x, t in zip(X, y):\n",
        "            # calculating output steps\n",
        "            a_vals = [x]                                  # keeps track of 'a' values, feeding in input\n",
        "            for l in range(self.num_layers - 1):               # for each of our layers (excluding output layer)                    \n",
        "              a = sigmoid(a_vals[l]@weights[l].T)         # gets 'a' values, passing through sigmoid\n",
        "               \n",
        "              if l != self.num_layers - 2: \n",
        "                a = np.append(a, 1.)                     # adding bias\n",
        "\n",
        "              a_vals.append(np.array(a))                 # adding to our a_values\n",
        "\n",
        "            # backpropagation steps\n",
        "            delta = []  # keeps track of all delta values\n",
        "\n",
        "            # finding first delta\n",
        "            # for second-last layer <- last layer \n",
        "            delt = []\n",
        "     \n",
        "            z = np.zeros(len(self.classes))   # number of classes array with 1 in class ex. y = 0 z = [1, 0, 0]\n",
        "\n",
        "            z[int(t)] = 1\n",
        "            delt_out = (z - a_vals[-1])* a_vals[-1] * (1- a_vals[-1])   # first delta value\n",
        "            delta.append(delt_out)\n",
        "\n",
        "            #finding the deltas\n",
        "            for l in range(1, self.num_layers - 1):                                  # -1 because don't need deltas for layer 1\n",
        "              delt_layer = []\n",
        "              for i in range(len(weights[-l][0]) - 1):                          # -1 because don't need one for bias\n",
        "                delt_j = np.sum(delt_out*weights[-l][:,i])*f(a_vals[-l-1][i])   # calculating the delta j's\n",
        "                delt_layer.append(delt_j)\n",
        "              delta.append(delt_layer)\n",
        "\n",
        "            for l in range(1, self.num_layers):\n",
        "              for i in range(dims[-l-1] + 1):     \n",
        "                for j in range(len(delta[l-1])): \n",
        "                  delt_w = np.copy(self.lr * a_vals[-l-1][i] * delta[l-1][j] + (self.momentum * prev_wc[-l][j][i]))   # change of weight  \n",
        "                  \n",
        "                  weights[-l][j][i] += delt_w\n",
        "\n",
        "                  prev_wc[-l][j][i] = np.copy(delt_w)   # updating weight change to previous weight change matrix\n",
        "          \n",
        "          self.weights = weights\n",
        "\n",
        "          if mse:   # calculating MSE\n",
        "            mse_val.append(self.MSE(X_val, y_val))\n",
        "            mse_train.append(self.MSE(X, y, full_X = True))\n",
        "\n",
        "          if score:   # calculating Score\n",
        "            s_val.append(self.score(X_val, y_val))\n",
        "            s_train.append(self.score(X, y, full_X = True))\n",
        "\n",
        "          if self.validation:\n",
        "            \n",
        "            val_acc = self.score(X_val, y_val)\n",
        "            if val_acc >= act_coeff:\n",
        "              if mse:\n",
        "                self.mse_val = mse_val\n",
        "                self.mse_train = mse_train\n",
        "                self.num_epochs = num_epochs\n",
        "              if score:\n",
        "                self.s_val = s_val\n",
        "                self.s_train = s_train\n",
        "\n",
        "              return self\n",
        "          \n",
        "\n",
        "        if mse:\n",
        "          self.mse_val = mse_val\n",
        "          self.mse_train = mse_train\n",
        "          self.num_epochs = num_epochs\n",
        "        if score:\n",
        "          self.s_val = s_val\n",
        "          self.s_train = s_train\n",
        "\n",
        "        self.weights = weights\n",
        "        self.num_epochs = num_epochs\n",
        "        return self\n",
        "\n",
        "\n",
        "\n",
        "    def predict(self, X, full_X = False):\n",
        "        \"\"\" Predicts all classes for a dataset X\n",
        "        Args:\n",
        "            X (array-like): A 2D numpy array with the training data, excluding targets\n",
        "        Returns:\n",
        "            array, shape (n_samples,)\n",
        "                Predicted target values per element in X.\n",
        "        \"\"\"\n",
        "        if full_X:\n",
        "          pass\n",
        "        else:\n",
        "          X = np.column_stack((X, np.ones(len(X))))   # updating X to have a column of all ones for bias\n",
        "        y = []\n",
        "\n",
        "        num_layers = self.num_layers\n",
        "\n",
        "        weights = self.weights \n",
        "        \n",
        "        for x in X:\n",
        "          a = sigmoid(x@self.weights[0].T)\n",
        "          a = np.append(a, 1)\n",
        "\n",
        "          for l in range(1, num_layers - 1):\n",
        "            a = sigmoid(a@weights[l].T)\n",
        "            if l != num_layers - 2:\n",
        "              a = np.append(a, 1)\n",
        "          \n",
        "          y.append(np.argmax(a))\n",
        "        \n",
        "        return y\n",
        "            \n",
        "\n",
        "    def score(self, X, y, full_X = False, format_y = False):\n",
        "        \"\"\" Returns accuracy of model on a given dataset.\n",
        "\n",
        "        Args:\n",
        "            X (array-like): A 2D numpy array with data, excluding targets\n",
        "            y (array-like): A 2D numpy array with targets\n",
        "\n",
        "        Returns:\n",
        "            score : float\n",
        "                Mean accuracy of self.predict(X) wrt. y.\n",
        "        \"\"\"\n",
        "        if X is None:\n",
        "          return 0\n",
        "        if format_y:\n",
        "          y = np.array([self.class_index[y[i]] for i in range(len(y))])\n",
        "        y = np.array(y, dtype = 'int32')  \n",
        "        z = self.predict(X, full_X)               # model predictions\n",
        "        \n",
        "        c = len(z)\n",
        "        cor = 0\n",
        "\n",
        "        for i in range(c):\n",
        "          if y[i] == z[i]:\n",
        "            cor += 1\n",
        "        return cor/c\n",
        "        \n",
        "    \n",
        "    def MSE(self, X, y, full_X = False):\n",
        "      \"\"\"Calculates the Mean Squared Error.\n",
        "        \n",
        "        Args:\n",
        "            X (array-like): A 2D numpy array with data, excluding targets\n",
        "            y (array-like): A 2D numpy array with targets\n",
        "\n",
        "        Returns:\n",
        "            MSE : float\n",
        "                Mean Squared Error of self.predict(X) wrt. y.\n",
        "      \"\"\"\n",
        "      z = np.array(self.predict(X, full_X))\n",
        "      y = np.array(y)\n",
        "\n",
        "      return np.sum([(y_val - z_val)**2 for y_val,z_val in zip(y, z)])/len(y)\n",
        "\n",
        "\n",
        "\n",
        "    def _shuffle_data(self, X, y):\n",
        "        \"\"\" Shuffles the data! This method should only be called internally.\n",
        "            \n",
        "            Args:\n",
        "              X (array-like): A 2D numpy array with data, excluding targets\n",
        "              y (array-like): A 2D numpy array with targets\n",
        "\n",
        "            Returns:\n",
        "              X (array-like): A 2D numpy array with data, excluding targets\n",
        "              y (array-like): A 2D numpy array with targets\n",
        "        \"\"\"\n",
        "        X = X[:,:-1]                                          #removing bias  \n",
        "\n",
        "        com = np.column_stack((X,y))                          #stacking the data into two columns\n",
        "        np.random.shuffle(com)                                #randomly shuffling\n",
        "        X = np.array(com[:,:len(X[0])], dtype = 'float64')\n",
        "        X = np.column_stack((X, np.ones(len(X))))             #updating X to have a column of all ones for bias\n",
        "\n",
        "        y = com[:,-1]\n",
        "\n",
        "        return X, y     #returning X, y\n",
        "\n",
        "    def train_validation(X, y):\n",
        "      # Making validation set\n",
        "      X_val = []\n",
        "      y_val = []\n",
        "      X_train = []\n",
        "      y_train = []\n",
        "\n",
        "      for i in range(len(y)):\n",
        "          if bernoulli.rvs(self.validation):\n",
        "            X_val.append(X[i])\n",
        "            y_val.append(y[i])\n",
        "          else:\n",
        "            X_train.append(X[i])\n",
        "            y_train.append(y[i])\n",
        "      \n",
        "      X = X_train\n",
        "      y = y_train\n",
        "\n",
        "    def get_weights(self):\n",
        "      \"\"\" Returns the weights. Used in Debugging.\"\"\"\n",
        "        return self.weights\n"
      ],
      "execution_count": null,
      "outputs": []
    },
    {
      "cell_type": "code",
      "metadata": {
        "id": "4SSoasDQSKXb",
        "colab": {
          "base_uri": "https://localhost:8080/"
        },
        "outputId": "31e32261-032a-4c42-8b91-c26d06270ad2"
      },
      "source": [
        "# iris Classification\n",
        "\"\"\"\n",
        "Y Values\n",
        "0 - Iris-setosa\n",
        "1 - Iris-versicolor\n",
        "2 - Iris-virginica\n",
        "\"\"\"\n",
        "\n",
        "# load evaluation data\n",
        "!curl https://raw.githubusercontent.com/cs472ta/CS472/master/datasets/iris.arff --output iris.arff\n",
        "eval_data = arff.loadarff('iris.arff')\n",
        "eval_data = np.array(eval_data[0])\n",
        "\n",
        "Xi = []  # 2d numpy array of X values\n",
        "yi = []  # numpy array of y values, binary output\n",
        "Xi_val = []\n",
        "yi_val = []\n",
        "Xi_test = []   # 2d numpy array of X values for test values\n",
        "yi_test = []   # numpy array of y values for test values\n",
        "\n",
        "# item in the dataset\n",
        "for d in eval_data:\n",
        "\n",
        "  # training set\n",
        "  if bernoulli.rvs(.8):\n",
        "    # validation set\n",
        "    if bernoulli.rvs(.15):\n",
        "      x_data = []\n",
        "      for i in range(len(d) - 1):\n",
        "        x_data.append(d[i])\n",
        "      Xi_val.append(np.array(x_data))\n",
        "      yi_val.append(d[-1])\n",
        "    \n",
        "    else:\n",
        "      x_data = []\n",
        "      for i in range(len(d) - 1):\n",
        "        x_data.append(d[i])\n",
        "      Xi.append(np.array(x_data))\n",
        "      yi.append(d[-1]) \n",
        "\n",
        "  # test set\n",
        "  else:\n",
        "    x_data = []\n",
        "    for i in range(len(d) - 1):\n",
        "      x_data.append(d[i])\n",
        "\n",
        "    Xi_test.append(np.array(x_data))\n",
        "    yi_test.append(d[-1])\n",
        "\n",
        "classes = np.unique(yi_val)\n",
        "class_index = {}\n",
        "for i, val in enumerate(classes):\n",
        "  class_index[val] = i\n",
        "\n",
        "yi_val_hot = []\n",
        "for i in range(len(yi_val)):\n",
        "  yi_val_hot.append(class_index[yi_val[i]])\n",
        "\n",
        "yitest_hot = []\n",
        "for i in range(len(yi_test)):\n",
        "  yitest_hot.append(class_index[yi_test[i]])\n"
      ],
      "execution_count": null,
      "outputs": [
        {
          "output_type": "stream",
          "text": [
            "  % Total    % Received % Xferd  Average Speed   Time    Time     Time  Current\n",
            "                                 Dload  Upload   Total   Spent    Left  Speed\n",
            "\r  0     0    0     0    0     0      0      0 --:--:-- --:--:-- --:--:--     0\r100  7485  100  7485    0     0  66238      0 --:--:-- --:--:-- --:--:-- 66238\n"
          ],
          "name": "stdout"
        }
      ]
    },
    {
      "cell_type": "code",
      "metadata": {
        "colab": {
          "base_uri": "https://localhost:8080/"
        },
        "id": "K91W3FhVRiIn",
        "outputId": "3bf9ec4f-fafc-4025-8205-652bb07473d4"
      },
      "source": [
        "M =  MLPClassifier(momentum = .5, shuffle=True, validation=True)\n",
        "\n",
        "# train on debug data\n",
        "max_iterations = 5000\n",
        "M.fit(Xi,yi, max_iterations, Xi_val, yi_val, mse = True, score = True, act_coeff = .95)"
      ],
      "execution_count": null,
      "outputs": [
        {
          "output_type": "execute_result",
          "data": {
            "text/plain": [
              "MLPClassifier(hidden_layer_widths=None, lr=0.1, momentum=0.5, shuffle=True,\n",
              "              validation=True)"
            ]
          },
          "metadata": {
            "tags": []
          },
          "execution_count": 75
        }
      ]
    },
    {
      "cell_type": "code",
      "metadata": {
        "colab": {
          "base_uri": "https://localhost:8080/"
        },
        "id": "nanoWaYnnhxs",
        "outputId": "f6185749-eb20-4307-b7b3-c7d820abeab6"
      },
      "source": [
        "print('Testing set accuracy:', M.score(Xi_test, yitest_hot))"
      ],
      "execution_count": null,
      "outputs": [
        {
          "output_type": "stream",
          "text": [
            "Testing set accuracy: 0.9142857142857143\n"
          ],
          "name": "stdout"
        }
      ]
    },
    {
      "cell_type": "code",
      "metadata": {
        "colab": {
          "base_uri": "https://localhost:8080/",
          "height": 295
        },
        "id": "AyYGSt6EsM3e",
        "outputId": "305d837d-c77a-4ce2-9b6d-b6e5d4f236ba"
      },
      "source": [
        "m = np.linspace(1, M.num_epochs, M.num_epochs)\n",
        "plt.plot(m, M.mse_train, label = \"MSE Train\")\n",
        "plt.plot(m, M.mse_val, label = \"MSE Val\")\n",
        "plt.xlabel('Epoch')\n",
        "plt.ylabel('MSE')\n",
        "plt.title('MSE over Epochs')\n",
        "plt.legend()\n",
        "plt.show()"
      ],
      "execution_count": null,
      "outputs": [
        {
          "output_type": "display_data",
          "data": {
            "image/png": "[encoded data removed]",
            "text/plain": [
              "<Figure size 432x288 with 1 Axes>"
            ]
          },
          "metadata": {
            "tags": [],
            "needs_background": "light"
          }
        }
      ]
    },
    {
      "cell_type": "code",
      "metadata": {
        "colab": {
          "base_uri": "https://localhost:8080/",
          "height": 295
        },
        "id": "hLInbDbGzGn8",
        "outputId": "de07f8ca-fee3-4ff2-d16e-3d759e894520"
      },
      "source": [
        "plt.plot(m, M.s_train, label = 'Training Acc')\n",
        "plt.plot(m, M.s_val, label = 'Val Acc')\n",
        "plt.xlabel('Epoch')\n",
        "plt.ylabel('Accuracy')\n",
        "plt.legend()\n",
        "plt.title('Accuracy over Epochs')\n",
        "plt.show()"
      ],
      "execution_count": null,
      "outputs": [
        {
          "output_type": "display_data",
          "data": {
            "image/png": "[encoded data removed]",
            "text/plain": [
              "<Figure size 432x288 with 1 Axes>"
            ]
          },
          "metadata": {
            "tags": [],
            "needs_background": "light"
          }
        }
      ]
    },
    {
      "cell_type": "code",
      "metadata": {
        "colab": {
          "base_uri": "https://localhost:8080/"
        },
        "id": "uKiuBMELsdw0",
        "outputId": "8303456f-f969-4c6e-f8f1-dcf9945598e3"
      },
      "source": [
        "M.score(Xi_val, yi_val, format_y = True)"
      ],
      "execution_count": null,
      "outputs": [
        {
          "output_type": "execute_result",
          "data": {
            "text/plain": [
              "1.0"
            ]
          },
          "metadata": {
            "tags": []
          },
          "execution_count": 78
        }
      ]
    },
    {
      "cell_type": "code",
      "metadata": {
        "id": "KBGUn43ASiXW",
        "colab": {
          "base_uri": "https://localhost:8080/",
          "height": 107
        },
        "outputId": "58848067-ecd4-4b51-f720-e355ae1f5a9b"
      },
      "source": [
        "# train on each dataset\n",
        "# load evaluation data\n",
        "!curl https://raw.githubusercontent.com/cs472ta/CS472/master/datasets/vowel.arff --output vowel.arff\n",
        "train_data = arff.loadarff('vowel.arff')\n",
        "train_data = np.array(train_data[0])\n",
        "\n",
        "Xv = []  # 2d numpy array of X values\n",
        "yv = []  # numpy array of y values, binary output\n",
        "Xv_val = []\n",
        "yv_val = []\n",
        "Xv_test = []   # 2d numpy array of X values for test values\n",
        "yv_test = []   # numpy array of y values for test values\n",
        "\n",
        "#item in the dataset\n",
        "for d in train_data:\n",
        "  if bernoulli.rvs(.8):\n",
        "  # validation set\n",
        "    if bernoulli.rvs(.15):\n",
        "      Xv_val.append(np.array((d[3], d[4], d[5], d[6], d[7], d[8], d[9], d[10], d[11], d[12])))\n",
        "      yv_val.append(d[13])\n",
        "    else:\n",
        "      Xv.append(np.array((d[3], d[4], d[5], d[6], d[7], d[8], d[9], d[10], d[11], d[12])))\n",
        "      yv.append(d[13])     \n",
        "  else:\n",
        "    Xv_test.append(np.array((d[3], d[4], d[5], d[6], d[7], d[8], d[9], d[10], d[11], d[12])))\n",
        "    yv_test.append(d[13])\n"
      ],
      "execution_count": null,
      "outputs": [
        {
          "output_type": "stream",
          "text": [
            "  % Total    % Received % Xferd  Average Speed   Time    Time     Time  Current\n",
            "                                 Dload  Upload   Total   Spent    Left  Speed\n",
            "\r  0     0    0     0    0     0      0      0 --:--:-- --:--:-- --:--:--     0\r100 91402  100 91402    0     0  1190k      0 --:--:-- --:--:-- --:--:-- 1190k\n"
          ],
          "name": "stdout"
        },
        {
          "output_type": "execute_result",
          "data": {
            "application/vnd.google.colaboratory.intrinsic+json": {
              "type": "string"
            },
            "text/plain": [
              "'\\nclasses = np.unique(yv_val)\\nclass_index = {}\\nfor i, val in enumerate(classes):\\n  class_index[val] = i\\n\\nyv_hot = []\\nfor i in range(len(yv)):\\n  yv_hot.append(class_index[yv[i]])\\n\\n\\nyv_val_hot = []\\nfor i in range(len(yv_val)):\\n  yv_val_hot.append(class_index[yv_val[i]])\\n\\nyvtest_hot = []\\nfor i in range(len(yv_test)):\\n  yvtest_hot.append(class_index[yv_test[i]])\\n'"
            ]
          },
          "metadata": {
            "tags": []
          },
          "execution_count": 83
        }
      ]
    },
    {
      "cell_type": "code",
      "metadata": {
        "id": "XDV4Tb9Vz__z"
      },
      "source": [
        "\"\"\"NOTE TO SELF: DON'T RERUN TAKES A LONG TIME.\"\"\"\n",
        "lr = [.2, .15, .55, .8, 1]\n",
        "mse_vals = []\n",
        "epochs = []\n",
        "\n",
        "max_iterations = 50\n",
        "for i in range(len(lr)):\n",
        "  M =  MLPClassifier(momentum = .5, lr = lr[i], hidden_layer_widths = [40], validation=True)\n",
        "\n",
        "  # train on debug data\n",
        "  M.fit(Xi,yi, max_iterations, Xi_val, yi_val, mse = True, act_coeff=.93)\n",
        "  mse_vals.append(M.mse_val)\n",
        "  epochs.append(np.linspace(1, M.num_epochs, M.num_epochs))"
      ],
      "execution_count": null,
      "outputs": []
    },
    {
      "cell_type": "code",
      "metadata": {
        "colab": {
          "base_uri": "https://localhost:8080/",
          "height": 295
        },
        "id": "cTZjWYjI_v70",
        "outputId": "a0fc5062-c83e-47ec-a9ba-0c5d79c2ede8"
      },
      "source": [
        "plt.plot(epochs[0], mse_vals[0], label = 'lr = .55')\n",
        "plt.plot(epochs[1], mse_vals[1], label = 'lr = .15')\n",
        "plt.plot(epochs[2], mse_vals[2], label = 'lr = 1')\n",
        "plt.plot(epochs[3], mse_vals[3], label = 'lr = .01')\n",
        "\n",
        "plt.title('MSE Over Validation Sets')\n",
        "plt.legend()\n",
        "plt.xlabel('Epoch')\n",
        "plt.ylabel('MSE')\n",
        "plt.show()\n",
        "\n"
      ],
      "execution_count": null,
      "outputs": [
        {
          "output_type": "display_data",
          "data": {
            "image/png": "[encoded data removed]",
            "text/plain": [
              "<Figure size 432x288 with 1 Axes>"
            ]
          },
          "metadata": {
            "tags": [],
            "needs_background": "light"
          }
        }
      ]
    },
    {
      "cell_type": "code",
      "metadata": {
        "id": "P9SBGQrxEd04"
      },
      "source": [
        "\"\"\"NOTE TO SELF: DON'T RERUN TAKES A LONG TIME.\"\"\"\n",
        "prev_acc = 0  # keeps track the previous accuracy\n",
        "new_acc = 1\n",
        "best_vals = []\n",
        "best_trains = []\n",
        "h_vals = []\n",
        "test_acc = []\n",
        "max_iterations = 10\n",
        "h = 1\n",
        "\n",
        "while np.abs(prev_acc - new_acc) > 1e-2:\n",
        "  prev_acc = new_acc\n",
        "  M =  MLPClassifier(momentum = .5, lr = .852, shuffle=True, validation=True, hidden_layer_widths = [h])\n",
        "  M.fit(Xv,yv, max_iterations, Xv_val, yv_val, mse = True, score=True)\n",
        "  new_acc = np.min(M.mse_val)\n",
        "  best_vals.append(new_acc)\n",
        "  best_trains.append(np.min(M.mse_train))\n",
        "\n",
        "  test_acc.append(M.score(Xv_test, yvtest_hot))\n",
        "  h_vals.append(h)\n",
        "  h *= 2"
      ],
      "execution_count": null,
      "outputs": []
    },
    {
      "cell_type": "code",
      "metadata": {
        "colab": {
          "base_uri": "https://localhost:8080/",
          "height": 299
        },
        "id": "qEj-A9-SRy2m",
        "outputId": "f5f6ba30-3f87-4dd0-e0c2-624b9c8de385"
      },
      "source": [
        "plt.semilogx(h_vals, best_vals, basex = 2, label = 'Validation')\n",
        "plt.semilogx(h_vals, best_trains, basex = 2, label = 'Train')\n",
        "plt.xlabel('Number of Layers')\n",
        "plt.ylabel('MSE')\n",
        "plt.title('MSE per # of Layers')\n",
        "plt.legend()\n",
        "plt.show()"
      ],
      "execution_count": null,
      "outputs": [
        {
          "output_type": "display_data",
          "data": {
            "image/png": "[encoded data removed]",
            "text/plain": [
              "<Figure size 432x288 with 1 Axes>"
            ]
          },
          "metadata": {
            "tags": [],
            "needs_background": "light"
          }
        }
      ]
    },
    {
      "cell_type": "code",
      "metadata": {
        "id": "ErrtMvbRm_z8"
      },
      "source": [
        "prev_acc = 0  # keeps track the previous accuracy\n",
        "new_acc = 1\n",
        "best_vals = []\n",
        "best_trains = []\n",
        "h_vals = []\n",
        "test_acc = []\n",
        "max_iterations = 10\n",
        "h = 1\n",
        "\n",
        "while np.abs(prev_acc - new_acc) > 1e-2 and h < 16:\n",
        "  prev_acc = new_acc\n",
        "  M =  MLPClassifier(momentum = .5, lr = .852, shuffle=True, validation=True, hidden_layer_widths = [h])\n",
        "  M.fit(Xi,yi, max_iterations, Xi_val, yi_val_hot, mse = True, score=True)\n",
        "  new_acc = np.min(M.mse_val)\n",
        "  print('diff', new_acc - prev_acc)\n",
        "  best_vals.append(new_acc)\n",
        "  best_trains.append(np.min(M.mse_train))\n",
        "\n",
        "  test_acc.append(M.score(Xi_test, yitest_hot))\n",
        "  h_vals.append(h)\n",
        "  h *= 2"
      ],
      "execution_count": null,
      "outputs": []
    },
    {
      "cell_type": "code",
      "metadata": {
        "colab": {
          "base_uri": "https://localhost:8080/"
        },
        "id": "RjdIbo3kna4k",
        "outputId": "9d74db14-f36d-4adf-9f46-9df405fbe6c1"
      },
      "source": [
        "print(test_acc)"
      ],
      "execution_count": null,
      "outputs": [
        {
          "output_type": "stream",
          "text": [
            "[0.8333333333333334, 0.625, 0.7916666666666666]\n"
          ],
          "name": "stdout"
        }
      ]
    },
    {
      "cell_type": "code",
      "metadata": {
        "id": "VDtAg8cwU1Ed"
      },
      "source": [
        "\"\"\"NOTE TO SELF: TAKES LONG TIME TO RUN DON'T RERUN.\"\"\"\n",
        "prev_acc = 0  # keeps track the previous accuracy\n",
        "new_acc = 1\n",
        "epochs = []\n",
        "m_vals = []\n",
        "test_acc = []\n",
        "max_iterations = 100\n",
        "m = .125\n",
        "\n",
        "for i in range(5):\n",
        "  prev_acc = new_acc\n",
        "  M =  MLPClassifier(momentum = m, lr = .852, shuffle=True, validation=True, hidden_layer_widths = [4])\n",
        "  M.fit(Xi,yi, max_iterations, Xi_val, yi_val_hot, mse = True, score=True)\n",
        "  epochs.append(M.num_epochs)\n",
        "  test_acc.append(M.score(Xi_test, yitest_hot))\n",
        "  m_vals.append(m)\n",
        "  m *= 2"
      ],
      "execution_count": null,
      "outputs": []
    },
    {
      "cell_type": "code",
      "metadata": {
        "colab": {
          "base_uri": "https://localhost:8080/",
          "height": 299
        },
        "id": "jrPGqURyVNmO",
        "outputId": "d8391402-a2e7-42c6-f959-729ce78e14d9"
      },
      "source": [
        "plt.semilogx(m_vals, epochs, basex = 2)\n",
        "plt.xlabel('Momentum')\n",
        "plt.ylabel('Epochs till Converged')\n",
        "plt.title('Momentum vs. Epochs')\n",
        "plt.show()"
      ],
      "execution_count": null,
      "outputs": [
        {
          "output_type": "display_data",
          "data": {
            "image/png": "[encoded data removed]",
            "text/plain": [
              "<Figure size 432x288 with 1 Axes>"
            ]
          },
          "metadata": {
            "tags": [],
            "needs_background": "light"
          }
        }
      ]
    },
    {
      "cell_type": "code",
      "metadata": {
        "id": "OFQv70W2VyqJ",
        "colab": {
          "base_uri": "https://localhost:8080/"
        },
        "outputId": "71c5b07e-df5e-41a6-926e-0d5ea16459e3"
      },
      "source": [
        "# comparing with built-in sklearn propagation\n",
        "# Load sklearn perceptron, Vowel dataset\n",
        "P = BackProp(hidden_layer_sizes=100, activation='relu', learning_rate_init=.01)\n",
        "P.fit(Xv, yv)\n",
        "print('Vowel score:', P.score(Xv_test, yv_test))\n",
        "\n",
        "#Load sklearn perceptron, Iris dataset\n",
        "P = BackProp(hidden_layer_sizes=5, activation='relu', learning_rate_init=.1)\n",
        "P.fit(Xi, yi)\n",
        "print('Iris score:', P.score(Xi_test, yi_test))"
      ],
      "execution_count": null,
      "outputs": [
        {
          "output_type": "stream",
          "text": [
            "Vowel score: 0.9402173913043478\n",
            "Iris score: 0.9523809523809523\n"
          ],
          "name": "stdout"
        },
        {
          "output_type": "stream",
          "text": [
            "/usr/local/lib/python3.6/dist-packages/sklearn/neural_network/_multilayer_perceptron.py:571: ConvergenceWarning: Stochastic Optimizer: Maximum iterations (200) reached and the optimization hasn't converged yet.\n",
            "  % self.max_iter, ConvergenceWarning)\n"
          ],
          "name": "stderr"
        }
      ]
    }
  ]
}